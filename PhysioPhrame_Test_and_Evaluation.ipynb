{
  "nbformat": 4,
  "nbformat_minor": 0,
  "metadata": {
    "colab": {
      "provenance": [],
      "authorship_tag": "ABX9TyM470MGS4saiAFC4WYDzjcj",
      "include_colab_link": true
    },
    "kernelspec": {
      "name": "python3",
      "display_name": "Python 3"
    },
    "language_info": {
      "name": "python"
    }
  },
  "cells": [
    {
      "cell_type": "markdown",
      "metadata": {
        "id": "view-in-github",
        "colab_type": "text"
      },
      "source": [
        "<a href=\"https://colab.research.google.com/github/meghamkpatel/physicaltherapyassistant/blob/main/PhysioPhrame_Test_and_Evaluation.ipynb\" target=\"_parent\"><img src=\"https://colab.research.google.com/assets/colab-badge.svg\" alt=\"Open In Colab\"/></a>"
      ]
    },
    {
      "cell_type": "code",
      "source": [
        "from openai import OpenAI\n",
        "from pinecone import Pinecone\n",
        "\n",
        "# Initialize Pinecone and OpenAI services\n",
        "pinecone_api_key = st.secrets[\"PINECONE_API_KEY\"]\n",
        "pc = Pinecone(api_key=pinecone_api_key)\n",
        "client = OpenAI(api_key=st.secrets[\"OPENAI_API_KEY\"])"
      ],
      "metadata": {
        "id": "havRuR4G9Waz"
      },
      "execution_count": null,
      "outputs": []
    },
    {
      "cell_type": "code",
      "source": [
        "# Pinecone index configuration\n",
        "index_name = \"physical-therapy\"\n",
        "index = pc.Index(index_name)"
      ],
      "metadata": {
        "id": "EEbwM2uU-gQ2"
      },
      "execution_count": null,
      "outputs": []
    },
    {
      "cell_type": "code",
      "execution_count": null,
      "metadata": {
        "id": "jkmchJLT88_W"
      },
      "outputs": [],
      "source": [
        "from giskard.rag import KnowledgeBase\n",
        "\n",
        "knowledge_base = KnowledgeBase(index)"
      ]
    },
    {
      "cell_type": "code",
      "source": [
        "from giskard.rag import generate_testset\n",
        "\n",
        "testset = generate_testset(\n",
        "    knowledge_base,\n",
        "    num_questions=60,\n",
        "    agent_description=\"A chatbot answering questions about Physical Therapy\",\n",
        ")"
      ],
      "metadata": {
        "id": "hIYoZSBL9DNq"
      },
      "execution_count": null,
      "outputs": []
    },
    {
      "cell_type": "code",
      "source": [
        "test_set_df = testset.to_pandas()\n",
        "\n",
        "for index, row in enumerate(test_set_df.head(3).iterrows()):\n",
        "    print(f\"Question {index + 1}: {row[1]['question']}\")\n",
        "    print(f\"Reference answer: {row[1]['reference_answer']}\")\n",
        "    print(\"Reference context:\")\n",
        "    print(row[1]['reference_context'])\n",
        "    print(\"******************\", end=\"\\n\\n\")"
      ],
      "metadata": {
        "id": "DyVH4Xwr-2S3"
      },
      "execution_count": null,
      "outputs": []
    },
    {
      "cell_type": "code",
      "source": [
        "testset.save(\"test-set.jsonl\")\n"
      ],
      "metadata": {
        "id": "xGZel9ft_HFT"
      },
      "execution_count": null,
      "outputs": []
    }
  ]
}