{
  "cells": [
    {
      "cell_type": "markdown",
      "metadata": {
        "colab_type": "text",
        "id": "view-in-github"
      },
      "source": [
        "<a href=\"https://colab.research.google.com/github/meghamkpatel/physicaltherapyassistant/blob/main/PhysioPhrame_Test_and_Evaluation.ipynb\" target=\"_parent\"><img src=\"https://colab.research.google.com/assets/colab-badge.svg\" alt=\"Open In Colab\"/></a>"
      ]
    },
    {
      "cell_type": "code",
      "execution_count": null,
      "metadata": {
        "id": "havRuR4G9Waz"
      },
      "outputs": [],
      "source": [
        "import os\n",
        "import streamlit as st\n",
        "from dotenv import load_dotenv\n",
        "from pinecone import Pinecone\n",
        "from langchain_openai.embeddings import OpenAIEmbeddings\n",
        "\n",
        "# Load environment variables\n",
        "OPENAI_API_KEY = st.secrets[\"OPENAI_API_KEY\"]\n",
        "MODEL = \"gpt-3.5-turbo\"\n",
        "\n",
        "# Initialize Pinecone\n",
        "PINECONE_API_KEY = st.secrets[\"PINECONE_API_KEY\"]\n",
        "pc = Pinecone(api_key=PINECONE_API_KEY)\n",
        "\n",
        "# Initialize OpenAI embeddings\n",
        "embeddings = OpenAIEmbeddings(openai_api_key=OPENAI_API_KEY)\n"
      ]
    },
    {
      "cell_type": "code",
      "execution_count": null,
      "metadata": {},
      "outputs": [],
      "source": [
        "from langchain_community.document_loaders import DirectoryLoader\n",
        "\n",
        "def load_local_documents(directory):\n",
        "    loader = DirectoryLoader(directory)\n",
        "    documents = loader.load()\n",
        "    \n",
        "    # Replace newline characters with spaces in each document\n",
        "    for doc in documents:\n",
        "        doc.page_content = doc.page_content.replace(\"\\n\", \" \")\n",
        "    \n",
        "    return documents\n",
        "\n",
        "# Define the directory containing the documents\n",
        "directory = 'content/Textbook'\n",
        "\n",
        "# Load local documents\n",
        "documents = load_local_documents(directory)"
      ]
    },
    {
      "cell_type": "code",
      "execution_count": null,
      "metadata": {},
      "outputs": [],
      "source": [
        "from pinecone import Pinecone\n",
        "from langchain_openai.embeddings import OpenAIEmbeddings\n",
        "\n",
        "# Initialize Pinecone\n",
        "pinecone_api_key = st.secrets[\"PINECONE_API_KEY\"]\n",
        "pinecone = Pinecone(api_key=pinecone_api_key)\n",
        "\n",
        "# Create or load the index\n",
        "index_name = \"physical-therapy\"\n",
        "pc_index = pc.Index(index_name)\n",
        "\n",
        "\n",
        "vectorstore = pinecone.Index(name=index_name)\n",
        "\n",
        "# Generate embeddings\n",
        "embeddings = OpenAIEmbeddings()\n",
        "vector_dict = {f\"doc_{i}\": embeddings.embed_query(doc.page_content) for i, doc in enumerate(documents)}\n"
      ]
    },
    {
      "cell_type": "code",
      "execution_count": null,
      "metadata": {},
      "outputs": [],
      "source": [
        "import pandas as pd\n",
        "\n",
        "# Load the content in a pandas DataFrame\n",
        "df = pd.DataFrame([doc.page_content for doc in documents], columns=[\"text\"])"
      ]
    },
    {
      "cell_type": "code",
      "execution_count": null,
      "metadata": {},
      "outputs": [],
      "source": [
        "from giskard.rag import KnowledgeBase, generate_testset, evaluate\n",
        "\n",
        "# Create a Knowledge Base\n",
        "knowledge_base = KnowledgeBase(df)"
      ]
    },
    {
      "cell_type": "code",
      "execution_count": null,
      "metadata": {},
      "outputs": [],
      "source": [
        "# Generate the Test Set\n",
        "testset = generate_testset(\n",
        "    knowledge_base,\n",
        "    num_questions=20,\n",
        "    agent_description=\"A chatbot answering questions about physical therapy\",\n",
        ")"
      ]
    },
    {
      "cell_type": "code",
      "execution_count": null,
      "metadata": {
        "id": "DyVH4Xwr-2S3"
      },
      "outputs": [],
      "source": [
        "test_set_df = testset.to_pandas()\n",
        "\n",
        "for index, row in enumerate(test_set_df.head(3).iterrows()):\n",
        "    print(f\"Question {index + 1}: {row[1]['question']}\")\n",
        "    print(f\"Reference answer: {row[1]['reference_answer']}\")\n",
        "    print(\"Reference context:\")\n",
        "    print(row[1]['reference_context'])\n",
        "    print(\"******************\", end=\"\\n\\n\")"
      ]
    },
    {
      "cell_type": "code",
      "execution_count": null,
      "metadata": {
        "id": "xGZel9ft_HFT"
      },
      "outputs": [],
      "source": [
        "testset.save(\"test-set.jsonl\")\n"
      ]
    },
    {
      "cell_type": "code",
      "execution_count": null,
      "metadata": {},
      "outputs": [],
      "source": [
        "from langchain.prompts import PromptTemplate\n",
        "\n",
        "template = \"\"\"\n",
        "Answer the question based on the context below. If you can't \n",
        "answer the question, reply \"I don't know\".\n",
        "\n",
        "Context: {context}\n",
        "\n",
        "Question: {question}\n",
        "\"\"\"\n",
        "\n",
        "prompt = PromptTemplate.from_template(template)\n",
        "print(prompt.format(context=\"Here is some context\", question=\"Here is a question\"))"
      ]
    },
    {
      "cell_type": "code",
      "execution_count": null,
      "metadata": {},
      "outputs": [],
      "source": [
        "prompt = PromptTemplate.from_template(template)"
      ]
    },
    {
      "cell_type": "code",
      "execution_count": null,
      "metadata": {},
      "outputs": [],
      "source": [
        "from langchain_core.output_parsers import StrOutputParser\n",
        "from langchain_openai.chat_models import ChatOpenAI\n",
        "from operator import itemgetter\n",
        "\n",
        "# Create the RAG Chain\n",
        "model = ChatOpenAI(openai_api_key=OPENAI_API_KEY, model=MODEL)\n",
        "def retriever_fn(question):\n",
        "    response = pc_index.query(queries=[question],top_k=5)\n",
        "    doc_ids = response[0].ids\n",
        "    return [{\"context\": df.iloc[doc_id][\"text\"], \"question\": question} for doc_id in doc_ids]\n",
        "\n",
        "chain = (\n",
        "    {\n",
        "        \"context\": retriever_fn,\n",
        "        \"question\": itemgetter(\"question\"),\n",
        "    }\n",
        "    | prompt\n",
        "    | model\n",
        "    | StrOutputParser()\n",
        ")\n"
      ]
    },
    {
      "cell_type": "code",
      "execution_count": null,
      "metadata": {},
      "outputs": [],
      "source": [
        "chain.invoke(\"What is Physical Therapy?\")\n"
      ]
    },
    {
      "cell_type": "code",
      "execution_count": null,
      "metadata": {},
      "outputs": [],
      "source": [
        "# Function to invoke the chain with a specific question\n",
        "def answer_fn(question, history=None):\n",
        "    return chain.invoke({\"question\": question})"
      ]
    },
    {
      "cell_type": "code",
      "execution_count": null,
      "metadata": {},
      "outputs": [],
      "source": [
        "from giskard.rag import KnowledgeBase, generate_testset, evaluate\n",
        "\n",
        "# Evaluate the model on the test set\n",
        "report = evaluate(answer_fn, testset=testset, knowledge_base=knowledge_base)"
      ]
    },
    {
      "cell_type": "code",
      "execution_count": null,
      "metadata": {},
      "outputs": [],
      "source": [
        "# Display the report\n",
        "display(report)"
      ]
    }
  ],
  "metadata": {
    "colab": {
      "authorship_tag": "ABX9TyM470MGS4saiAFC4WYDzjcj",
      "include_colab_link": true,
      "provenance": []
    },
    "kernelspec": {
      "display_name": "Python 3",
      "name": "python3"
    },
    "language_info": {
      "codemirror_mode": {
        "name": "ipython",
        "version": 3
      },
      "file_extension": ".py",
      "mimetype": "text/x-python",
      "name": "python",
      "nbconvert_exporter": "python",
      "pygments_lexer": "ipython3",
      "version": "3.11.8"
    }
  },
  "nbformat": 4,
  "nbformat_minor": 0
}
